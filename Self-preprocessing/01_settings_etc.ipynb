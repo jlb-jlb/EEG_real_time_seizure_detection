{
 "cells": [
  {
   "cell_type": "code",
   "execution_count": null,
   "metadata": {},
   "outputs": [],
   "source": []
  },
  {
   "cell_type": "markdown",
   "metadata": {},
   "source": [
    "Normal"
   ]
  },
  {
   "cell_type": "markdown",
   "metadata": {},
   "source": [
    "python preproces.py --data_type train --cpu_num *available cpu numbers* --label_type  *tse or tse_bi* --save_directory *path to save preprocessed files* --samplerate *sample rate that you want to re-sample all files*"
   ]
  },
  {
   "cell_type": "markdown",
   "metadata": {},
   "source": [
    "python 1_preprocess.py --data_type train --cpu_num 2 --label_type  tse --save_directory ~/bachelor_thesis/preprocessed_tuh_eeg_seizure --samplerate 200"
   ]
  },
  {
   "cell_type": "markdown",
   "metadata": {},
   "source": [
    "PROBLEM: we have csv files and no tse files!"
   ]
  },
  {
   "cell_type": "markdown",
   "metadata": {},
   "source": [
    "## Reformat all csv and csv_bi to tse and tse_bi files"
   ]
  },
  {
   "cell_type": "code",
   "execution_count": 7,
   "metadata": {},
   "outputs": [],
   "source": [
    "TESTDATAPATH =  \"/home/joscha.l.bisping/bachelor_thesis/TUH_EEG_2/edf/train/aaaaaaac/s001_2002_12_23/02_tcp_le/aaaaaaac_s001_t000.csv_bi\""
   ]
  },
  {
   "cell_type": "code",
   "execution_count": 2,
   "metadata": {},
   "outputs": [],
   "source": [
    "def format_csv_to_tse(filename: str):\n",
    "    assert filename.endswith('.csv'), \"filename must end with .csv\"\n",
    "    with open(filename, 'r') as f:\n",
    "        data = f.read()\n",
    "        # convert to list of lines\n",
    "        data = data.split('\\n')\n",
    "        data = data[4:]\n",
    "        # replace , with spaces\n",
    "        data = [line.replace(',', ' ') for line in data]\n",
    "        # remove empty lines\n",
    "        data = [line for line in data if line != '']  \n",
    "    \n",
    "    # save data as .tse\n",
    "    filename_tse = filename\n",
    "    filename_tse = filename_tse.replace('.csv', '.tse')\n",
    "\n",
    "    with open(filename_tse, 'w') as f:\n",
    "        f.write('\\n'.join(data))\n",
    "\n",
    "\n",
    "    print(data[2:])\n",
    "    for line in data:\n",
    "        print(line)\n",
    "\n",
    "\n",
    "def format_csv_bi_to_tse_bi(filename: str):\n",
    "    assert filename.endswith('.csv_bi') == True, \"filename must end with .csv_bi\"\n",
    "    \n",
    "    with open(filename, 'r') as f:\n",
    "        data = f.read()\n",
    "        # convert to list of lines\n",
    "        data = data.split('\\n')\n",
    "        data = data[4:]\n",
    "        # replace , with spaces\n",
    "        data = [line.replace(',', ' ') for line in data]\n",
    "        # remove empty lines\n",
    "        data = [line for line in data if line != '']  \n",
    "    \n",
    "    # save data as .tse\n",
    "    filename_tse = filename\n",
    "    filename_tse = filename_tse.replace('.csv_bi', '.tse_bi')\n",
    "\n",
    "    with open(filename_tse, 'w') as f:\n",
    "        f.write('\\n'.join(data))\n",
    "\n",
    "\n",
    "    print(data[2:])\n",
    "    for line in data:\n",
    "        print(line)"
   ]
  },
  {
   "cell_type": "code",
   "execution_count": 9,
   "metadata": {},
   "outputs": [
    {
     "name": "stdout",
     "output_type": "stream",
     "text": [
      "['TERM 36.8868 237.2101 seiz 1.0000']\n",
      "#\n",
      "channel start_time stop_time label confidence\n",
      "TERM 36.8868 237.2101 seiz 1.0000\n"
     ]
    }
   ],
   "source": [
    "# format_csv_to_tse(TESTDATAPATH)\n",
    "format_csv_bi_to_tse_bi(TESTDATAPATH)"
   ]
  },
  {
   "cell_type": "code",
   "execution_count": null,
   "metadata": {},
   "outputs": [],
   "source": [
    "from utils.data_loader import DataLoader\n",
    "TRAINING_DATA_PATH = \"/home/joscha.l.bisping/bachelor_thesis/TUH_EEG_2/edf/train\"\n",
    "data_loader = DataLoader(TRAINING_DATA_PATH, extensions=[\".edf\", \".csv\", \".csv_bi\"], shuffle=False)\n",
    "\n",
    "\n",
    "files = data_loader.get_next()\n",
    "while files is not None:\n",
    "    file_dict = {\"eeg\": files[0], \"csv\": files[1], \"csv_bi\": files[2]}\n",
    "    format_csv_to_tse(file_dict[\"csv\"])\n",
    "    format_csv_bi_to_tse_bi(file_dict[\"csv_bi\"])\n",
    "    print(\" \"*250, end=\"\\r\")\n",
    "    print(file_dict[\"csv\"], end=\"\\r\")\n",
    "\n",
    "    files = data_loader.get_next()\n",
    "\n"
   ]
  }
 ],
 "metadata": {
  "kernelspec": {
   "display_name": "venv",
   "language": "python",
   "name": "python3"
  },
  "language_info": {
   "codemirror_mode": {
    "name": "ipython",
    "version": 3
   },
   "file_extension": ".py",
   "mimetype": "text/x-python",
   "name": "python",
   "nbconvert_exporter": "python",
   "pygments_lexer": "ipython3",
   "version": "3.10.12"
  },
  "orig_nbformat": 4
 },
 "nbformat": 4,
 "nbformat_minor": 2
}
